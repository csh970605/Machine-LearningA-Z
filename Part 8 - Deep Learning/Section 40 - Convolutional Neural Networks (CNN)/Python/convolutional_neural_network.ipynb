{
 "cells": [
  {
   "cell_type": "markdown",
   "metadata": {
    "id": "3DR-eO17geWu"
   },
   "source": [
    "# Convolutional Neural Network"
   ]
  },
  {
   "cell_type": "markdown",
   "metadata": {
    "id": "EMefrVPCg-60"
   },
   "source": [
    "### Importing the libraries"
   ]
  },
  {
   "cell_type": "code",
   "execution_count": 38,
   "metadata": {
    "executionInfo": {
     "elapsed": 4665,
     "status": "ok",
     "timestamp": 1669982753364,
     "user": {
      "displayName": "최세훈",
      "userId": "00148754616075165078"
     },
     "user_tz": -540
    },
    "id": "iYSEtyat7TE8"
   },
   "outputs": [],
   "source": [
    "import tensorflow as tf\n",
    "from keras.preprocessing.image import ImageDataGenerator\n",
    "import numpy as np"
   ]
  },
  {
   "cell_type": "markdown",
   "metadata": {
    "id": "oxQxCBWyoGPE"
   },
   "source": [
    "## Part 1 - Data Preprocessing"
   ]
  },
  {
   "cell_type": "markdown",
   "metadata": {
    "id": "MvE-heJNo3GG"
   },
   "source": [
    "### Preprocessing the Training set"
   ]
  },
  {
   "cell_type": "code",
   "execution_count": 6,
   "metadata": {
    "id": "p1G1t71b8Gwn"
   },
   "outputs": [
    {
     "name": "stdout",
     "output_type": "stream",
     "text": [
      "Found 8000 images belonging to 2 classes.\n"
     ]
    }
   ],
   "source": [
    "train_datagen = ImageDataGenerator (\n",
    "    rescale=1./255, # Feature Scaling 모든 픽셀의 값을 0~1로 만든다.\n",
    "    shear_range=0.2,\n",
    "    zoom_range=0.2,\n",
    "    horizontal_flip=True\n",
    ")\n",
    "training_set= train_datagen.flow_from_directory(\n",
    "    'dataset/training_set',\n",
    "    target_size=(64, 64), #속도를 빠르게 하기위해 150,150에서 줄임\n",
    "    batch_size=32,\n",
    "    class_mode='binary'\n",
    ")"
   ]
  },
  {
   "cell_type": "markdown",
   "metadata": {
    "id": "mrCMmGw9pHys"
   },
   "source": [
    "### Preprocessing the Test set"
   ]
  },
  {
   "cell_type": "code",
   "execution_count": 8,
   "metadata": {
    "id": "FyUO3odDveID"
   },
   "outputs": [
    {
     "name": "stdout",
     "output_type": "stream",
     "text": [
      "Found 2000 images belonging to 2 classes.\n"
     ]
    }
   ],
   "source": [
    "test_datagen = ImageDataGenerator(rescale=1./255)\n",
    "test_set = test_datagen.flow_from_directory(\n",
    "    'dataset/test_set',\n",
    "    target_size=(64, 64),\n",
    "    batch_size=32,\n",
    "    class_mode='binary'\n",
    ")"
   ]
  },
  {
   "cell_type": "markdown",
   "metadata": {
    "id": "af8O4l90gk7B"
   },
   "source": [
    "## Part 2 - Building the CNN"
   ]
  },
  {
   "cell_type": "markdown",
   "metadata": {
    "id": "ces1gXY2lmoX"
   },
   "source": [
    "### Initialising the CNN"
   ]
  },
  {
   "cell_type": "code",
   "execution_count": 9,
   "metadata": {
    "id": "wFZh6_9NwldR"
   },
   "outputs": [],
   "source": [
    "cnn = tf.keras.models.Sequential()"
   ]
  },
  {
   "cell_type": "markdown",
   "metadata": {
    "id": "u5YJj_XMl5LF"
   },
   "source": [
    "### Step 1 - Convolution"
   ]
  },
  {
   "cell_type": "code",
   "execution_count": 10,
   "metadata": {
    "id": "QGbbjI7Jw3w4"
   },
   "outputs": [],
   "source": [
    "# kernel_size = 차원\n",
    "cnn.add(tf.keras.layers.Conv2D(filters=32, kernel_size=3, activation='relu', input_shape=[64,64,3]))"
   ]
  },
  {
   "cell_type": "markdown",
   "metadata": {
    "id": "tf87FpvxmNOJ"
   },
   "source": [
    "### Step 2 - Pooling"
   ]
  },
  {
   "cell_type": "code",
   "execution_count": 11,
   "metadata": {
    "id": "ZyQ2cAoTyKhN"
   },
   "outputs": [],
   "source": [
    "cnn.add(tf.keras.layers.MaxPool2D(pool_size=2, strides=2))"
   ]
  },
  {
   "cell_type": "markdown",
   "metadata": {
    "id": "xaTOgD8rm4mU"
   },
   "source": [
    "### Adding a second convolutional layer"
   ]
  },
  {
   "cell_type": "code",
   "execution_count": 12,
   "metadata": {
    "id": "8VJoP-3yzdnj"
   },
   "outputs": [],
   "source": [
    "#두번째 cnn에서 input_shape이 사라진 이유 :\n",
    "#   자동으로 input_shpae을 적용시키기 때문\n",
    "cnn.add(tf.keras.layers.Conv2D(filters=32, kernel_size=3, activation='relu'))\n",
    "cnn.add(tf.keras.layers.MaxPool2D(pool_size=2, strides=2))"
   ]
  },
  {
   "cell_type": "markdown",
   "metadata": {
    "id": "tmiEuvTunKfk"
   },
   "source": [
    "### Step 3 - Flattening"
   ]
  },
  {
   "cell_type": "code",
   "execution_count": 13,
   "metadata": {
    "id": "dqBqK1q2zvga"
   },
   "outputs": [],
   "source": [
    "cnn.add(tf.keras.layers.Flatten())"
   ]
  },
  {
   "cell_type": "markdown",
   "metadata": {
    "id": "dAoSECOm203v"
   },
   "source": [
    "### Step 4 - Full Connection"
   ]
  },
  {
   "cell_type": "code",
   "execution_count": 14,
   "metadata": {
    "id": "cseYzPVgz91l"
   },
   "outputs": [],
   "source": [
    "cnn.add(tf.keras.layers.Dense(units=128, activation='relu'))"
   ]
  },
  {
   "cell_type": "markdown",
   "metadata": {
    "id": "yTldFvbX28Na"
   },
   "source": [
    "### Step 5 - Output Layer"
   ]
  },
  {
   "cell_type": "code",
   "execution_count": 16,
   "metadata": {
    "id": "BBdK-CXF0zM3"
   },
   "outputs": [],
   "source": [
    "# 이진 분류를 하기때문에 units는 1이면 된다\n",
    "# 다중 분류를 하면 activation은 softmax\n",
    "cnn.add(tf.keras.layers.Dense(units=1, activation='sigmoid'))"
   ]
  },
  {
   "cell_type": "markdown",
   "metadata": {
    "id": "D6XkI90snSDl"
   },
   "source": [
    "## Part 3 - Training the CNN"
   ]
  },
  {
   "cell_type": "markdown",
   "metadata": {
    "id": "vfrFQACEnc6i"
   },
   "source": [
    "### Compiling the CNN"
   ]
  },
  {
   "cell_type": "code",
   "execution_count": 17,
   "metadata": {
    "id": "Aom8og2W1eNB"
   },
   "outputs": [],
   "source": [
    "cnn.compile(optimizer='adam', loss='binary_crossentropy', metrics=['accuracy'])"
   ]
  },
  {
   "cell_type": "markdown",
   "metadata": {
    "id": "ehS-v3MIpX2h"
   },
   "source": [
    "### Training the CNN on the Training set and evaluating it on the Test set"
   ]
  },
  {
   "cell_type": "code",
   "execution_count": 18,
   "metadata": {
    "id": "0FA6BLoC2B4H"
   },
   "outputs": [
    {
     "name": "stdout",
     "output_type": "stream",
     "text": [
      "Epoch 1/25\n",
      "250/250 [==============================] - 35s 136ms/step - loss: 0.6810 - accuracy: 0.5629 - val_loss: 0.6477 - val_accuracy: 0.6235\n",
      "Epoch 2/25\n",
      "250/250 [==============================] - 29s 118ms/step - loss: 0.6255 - accuracy: 0.6495 - val_loss: 0.5843 - val_accuracy: 0.6940\n",
      "Epoch 3/25\n",
      "250/250 [==============================] - 29s 118ms/step - loss: 0.5866 - accuracy: 0.6896 - val_loss: 0.5510 - val_accuracy: 0.7245\n",
      "Epoch 4/25\n",
      "250/250 [==============================] - 27s 109ms/step - loss: 0.5436 - accuracy: 0.7234 - val_loss: 0.6022 - val_accuracy: 0.6845\n",
      "Epoch 5/25\n",
      "250/250 [==============================] - 27s 107ms/step - loss: 0.5195 - accuracy: 0.7409 - val_loss: 0.5222 - val_accuracy: 0.7440\n",
      "Epoch 6/25\n",
      "250/250 [==============================] - 26s 104ms/step - loss: 0.4964 - accuracy: 0.7558 - val_loss: 0.5108 - val_accuracy: 0.7505\n",
      "Epoch 7/25\n",
      "250/250 [==============================] - 26s 104ms/step - loss: 0.4767 - accuracy: 0.7714 - val_loss: 0.5010 - val_accuracy: 0.7645\n",
      "Epoch 8/25\n",
      "250/250 [==============================] - 26s 105ms/step - loss: 0.4701 - accuracy: 0.7747 - val_loss: 0.4950 - val_accuracy: 0.7700\n",
      "Epoch 9/25\n",
      "250/250 [==============================] - 25s 99ms/step - loss: 0.4465 - accuracy: 0.7919 - val_loss: 0.4698 - val_accuracy: 0.7770\n",
      "Epoch 10/25\n",
      "250/250 [==============================] - 25s 99ms/step - loss: 0.4273 - accuracy: 0.8020 - val_loss: 0.5136 - val_accuracy: 0.7580\n",
      "Epoch 11/25\n",
      "250/250 [==============================] - 25s 98ms/step - loss: 0.4245 - accuracy: 0.8054 - val_loss: 0.4721 - val_accuracy: 0.7830\n",
      "Epoch 12/25\n",
      "250/250 [==============================] - 24s 98ms/step - loss: 0.3949 - accuracy: 0.8194 - val_loss: 0.4683 - val_accuracy: 0.7900\n",
      "Epoch 13/25\n",
      "250/250 [==============================] - 25s 99ms/step - loss: 0.3894 - accuracy: 0.8227 - val_loss: 0.4663 - val_accuracy: 0.7955\n",
      "Epoch 14/25\n",
      "250/250 [==============================] - 25s 100ms/step - loss: 0.3727 - accuracy: 0.8325 - val_loss: 0.4718 - val_accuracy: 0.7920\n",
      "Epoch 15/25\n",
      "250/250 [==============================] - 25s 100ms/step - loss: 0.3580 - accuracy: 0.8426 - val_loss: 0.5315 - val_accuracy: 0.7645\n",
      "Epoch 16/25\n",
      "250/250 [==============================] - 25s 101ms/step - loss: 0.3381 - accuracy: 0.8497 - val_loss: 0.5208 - val_accuracy: 0.7840\n",
      "Epoch 17/25\n",
      "250/250 [==============================] - 25s 99ms/step - loss: 0.3271 - accuracy: 0.8518 - val_loss: 0.4710 - val_accuracy: 0.7915\n",
      "Epoch 18/25\n",
      "250/250 [==============================] - 25s 101ms/step - loss: 0.3070 - accuracy: 0.8687 - val_loss: 0.4914 - val_accuracy: 0.7960\n",
      "Epoch 19/25\n",
      "250/250 [==============================] - 26s 103ms/step - loss: 0.3009 - accuracy: 0.8725 - val_loss: 0.4959 - val_accuracy: 0.8055\n",
      "Epoch 20/25\n",
      "250/250 [==============================] - 25s 101ms/step - loss: 0.2774 - accuracy: 0.8845 - val_loss: 0.4969 - val_accuracy: 0.8065\n",
      "Epoch 21/25\n",
      "250/250 [==============================] - 25s 100ms/step - loss: 0.2757 - accuracy: 0.8849 - val_loss: 0.5109 - val_accuracy: 0.8015\n",
      "Epoch 22/25\n",
      "250/250 [==============================] - 29s 117ms/step - loss: 0.2495 - accuracy: 0.8965 - val_loss: 0.5299 - val_accuracy: 0.7910\n",
      "Epoch 23/25\n",
      "250/250 [==============================] - 29s 116ms/step - loss: 0.2447 - accuracy: 0.8984 - val_loss: 0.6124 - val_accuracy: 0.7800\n",
      "Epoch 24/25\n",
      "250/250 [==============================] - 29s 115ms/step - loss: 0.2258 - accuracy: 0.9072 - val_loss: 0.6181 - val_accuracy: 0.7935\n",
      "Epoch 25/25\n",
      "250/250 [==============================] - 25s 99ms/step - loss: 0.2225 - accuracy: 0.9104 - val_loss: 0.5516 - val_accuracy: 0.7975\n"
     ]
    },
    {
     "data": {
      "text/plain": [
       "<keras.callbacks.History at 0x29d6eda9b80>"
      ]
     },
     "execution_count": 18,
     "metadata": {},
     "output_type": "execute_result"
    }
   ],
   "source": [
    "# validation_data : 평가하고자 하는 데이터 셋\n",
    "cnn.fit(x=training_set, validation_data=test_set, epochs=25)"
   ]
  },
  {
   "cell_type": "markdown",
   "metadata": {
    "id": "U3PZasO0006Z"
   },
   "source": [
    "## Part 4 - Making a single prediction"
   ]
  },
  {
   "cell_type": "code",
   "execution_count": 43,
   "metadata": {
    "id": "1ziLFYWF24BR"
   },
   "outputs": [
    {
     "name": "stdout",
     "output_type": "stream",
     "text": [
      "1/1 [==============================] - 0s 15ms/step\n",
      "dog\n"
     ]
    }
   ],
   "source": [
    "test_image = tf.keras.utils.load_img(path='dataset/single_prediction/cat_or_dog_1.jpg', target_size=(64,64))\n",
    "test_image = tf.keras.utils.img_to_array(test_image)\n",
    "test_image = np.expand_dims(test_image, axis=0)\n",
    "result = cnn.predict(test_image)\n",
    "# 강아지인지 고양이인지 구별하는 법\n",
    "training_set.class_indices\n",
    "if result[0][0] == 1:\n",
    "  prediction='dog'\n",
    "else:\n",
    "  prediction='cat'\n",
    "print(prediction)"
   ]
  },
  {
   "cell_type": "code",
   "execution_count": 44,
   "metadata": {},
   "outputs": [
    {
     "name": "stdout",
     "output_type": "stream",
     "text": [
      "1/1 [==============================] - 0s 14ms/step\n",
      "cat\n"
     ]
    }
   ],
   "source": [
    "test_image = tf.keras.utils.load_img(path='dataset/single_prediction/ToTo.jpg', target_size=(64,64))\n",
    "test_image = tf.keras.utils.img_to_array(test_image)\n",
    "test_image = np.expand_dims(test_image, axis=0)\n",
    "result = cnn.predict(test_image)\n",
    "# 강아지인지 고양이인지 구별하는 법\n",
    "training_set.class_indices\n",
    "if result[0][0] == 1:\n",
    "  prediction='dog'\n",
    "else:\n",
    "  prediction='cat'\n",
    "print(prediction)"
   ]
  }
 ],
 "metadata": {
  "colab": {
   "provenance": [],
   "toc_visible": true
  },
  "kernelspec": {
   "display_name": "Python 3 (ipykernel)",
   "language": "python",
   "name": "python3"
  },
  "language_info": {
   "codemirror_mode": {
    "name": "ipython",
    "version": 3
   },
   "file_extension": ".py",
   "mimetype": "text/x-python",
   "name": "python",
   "nbconvert_exporter": "python",
   "pygments_lexer": "ipython3",
   "version": "3.9.13"
  }
 },
 "nbformat": 4,
 "nbformat_minor": 1
}
